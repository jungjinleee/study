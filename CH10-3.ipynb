{
 "cells": [
  {
   "cell_type": "markdown",
   "source": [
    "### 커널 PCA"
   ],
   "metadata": {
    "collapsed": false,
    "pycharm": {
     "name": "#%% md\n"
    }
   }
  },
  {
   "cell_type": "code",
   "execution_count": 1,
   "outputs": [],
   "source": [
    "# 데이터 불러오기\n",
    "from sklearn import datasets\n",
    "raw_wine = datasets.load_wine()"
   ],
   "metadata": {
    "collapsed": false,
    "pycharm": {
     "name": "#%%\n"
    }
   }
  },
  {
   "cell_type": "code",
   "execution_count": 2,
   "outputs": [],
   "source": [
    "# 피쳐, 타겟 데이터 지정\n",
    "X = raw_wine.data\n",
    "y = raw_wine.target"
   ],
   "metadata": {
    "collapsed": false,
    "pycharm": {
     "name": "#%%\n"
    }
   }
  },
  {
   "cell_type": "code",
   "execution_count": 3,
   "outputs": [],
   "source": [
    "# 트레이닝/테스트 데이터 분할\n",
    "from sklearn.model_selection import train_test_split\n",
    "X_tn, X_te, y_tn, y_te=train_test_split(X,y,random_state=1)"
   ],
   "metadata": {
    "collapsed": false,
    "pycharm": {
     "name": "#%%\n"
    }
   }
  },
  {
   "cell_type": "code",
   "execution_count": 4,
   "outputs": [],
   "source": [
    "# 데이터 표준화\n",
    "from sklearn.preprocessing import StandardScaler\n",
    "std_scale = StandardScaler()\n",
    "std_scale.fit(X_tn)\n",
    "X_tn_std = std_scale.transform(X_tn)\n",
    "X_te_std  = std_scale.transform(X_te)"
   ],
   "metadata": {
    "collapsed": false,
    "pycharm": {
     "name": "#%%\n"
    }
   }
  },
  {
   "cell_type": "code",
   "execution_count": 5,
   "outputs": [],
   "source": [
    "# kernel PCA\n",
    "from sklearn.decomposition import KernelPCA\n",
    "k_pca = KernelPCA(n_components=2, kernel='poly')\n",
    "k_pca.fit(X_tn_std)\n",
    "X_tn_kpca = k_pca.transform(X_tn_std)\n",
    "X_te_kpca = k_pca.transform(X_te_std)"
   ],
   "metadata": {
    "collapsed": false,
    "pycharm": {
     "name": "#%%\n"
    }
   }
  },
  {
   "cell_type": "code",
   "execution_count": 6,
   "outputs": [
    {
     "name": "stdout",
     "output_type": "stream",
     "text": [
      "(133, 13)\n",
      "(133, 2)\n"
     ]
    }
   ],
   "source": [
    "# 차원축소 전후 데이터 차원 비교\n",
    "print(X_tn_std.shape)\n",
    "print(X_tn_kpca.shape)"
   ],
   "metadata": {
    "collapsed": false,
    "pycharm": {
     "name": "#%%\n"
    }
   }
  },
  {
   "cell_type": "code",
   "execution_count": 7,
   "outputs": [
    {
     "name": "stdout",
     "output_type": "stream",
     "text": [
      "[193.89824561 118.0368972 ]\n"
     ]
    }
   ],
   "source": [
    "# 고유값 확인\n",
    "print(k_pca.eigenvalues_)"
   ],
   "metadata": {
    "collapsed": false,
    "pycharm": {
     "name": "#%%\n"
    }
   }
  },
  {
   "cell_type": "code",
   "execution_count": 8,
   "outputs": [
    {
     "name": "stdout",
     "output_type": "stream",
     "text": [
      "[[ 0.07266242  0.00456251]\n",
      " [ 0.0469712  -0.04020348]\n",
      " [ 0.08698324  0.07012786]\n",
      " [ 0.19996777  0.218482  ]\n",
      " [ 0.14558241  0.12759024]\n",
      " [-0.0316937  -0.0955557 ]\n",
      " [-0.10921606  0.09183472]\n",
      " [-0.11306065  0.07491762]\n",
      " [ 0.08725253  0.05204947]\n",
      " [-0.02421116 -0.09637237]\n",
      " [ 0.10518354  0.00629214]\n",
      " [ 0.08056162  0.03107663]\n",
      " [ 0.03371273 -0.12190244]\n",
      " [-0.10603515  0.03252174]\n",
      " [ 0.07314539 -0.07636543]\n",
      " [-0.00830065 -0.06671645]\n",
      " [ 0.08166126  0.0683314 ]\n",
      " [-0.12106496  0.08116178]\n",
      " [-0.00440492 -0.13286099]\n",
      " [-0.098436    0.01206587]\n",
      " [ 0.16936111  0.14411655]\n",
      " [-0.00112801 -0.10236899]\n",
      " [ 0.05046673  0.05090575]\n",
      " [ 0.02312764 -0.11672988]\n",
      " [ 0.05288299  0.01634404]\n",
      " [-0.14390684  0.07755703]\n",
      " [-0.1116687   0.10213843]\n",
      " [-0.09004075  0.07111502]\n",
      " [-0.13169412  0.12006775]\n",
      " [-0.06341878 -0.03931811]\n",
      " [-0.01177083 -0.10981527]\n",
      " [ 0.03619517 -0.01828061]\n",
      " [-0.156624    0.11828334]\n",
      " [ 0.09838309  0.05224656]\n",
      " [-0.03607944 -0.04304917]\n",
      " [-0.08718829  0.03003902]\n",
      " [ 0.107761    0.08440051]\n",
      " [ 0.02229238 -0.09214541]\n",
      " [ 0.14598933  0.11737633]\n",
      " [-0.13726263  0.04433401]\n",
      " [-0.02909904 -0.06226158]\n",
      " [ 0.02879929 -0.04917687]\n",
      " [ 0.09714857  0.06450556]\n",
      " [ 0.04000178 -0.1192372 ]\n",
      " [-0.01859724 -0.09181325]\n",
      " [ 0.00251214 -0.07232383]\n",
      " [ 0.11625552  0.0812522 ]\n",
      " [ 0.00709013 -0.06305782]\n",
      " [ 0.05196883 -0.05957236]\n",
      " [-0.04336402 -0.06775749]\n",
      " [-0.10557423  0.09018568]\n",
      " [ 0.00284754 -0.13096497]\n",
      " [-0.00452854 -0.10536972]\n",
      " [ 0.00540651 -0.10814659]\n",
      " [ 0.05361027 -0.11464222]\n",
      " [ 0.15903704  0.13298658]\n",
      " [ 0.05278354  0.0185511 ]\n",
      " [ 0.05767792  0.00623569]\n",
      " [-0.08791754  0.02786623]\n",
      " [ 0.05012411 -0.02309564]\n",
      " [-0.07800725 -0.0008041 ]\n",
      " [-0.09451979  0.03076353]\n",
      " [-0.15926294  0.13889875]\n",
      " [ 0.04703695 -0.00072346]\n",
      " [ 0.02517162 -0.1074433 ]\n",
      " [ 0.0523388  -0.01980112]\n",
      " [-0.00521189 -0.12235619]\n",
      " [ 0.01151112 -0.1164174 ]\n",
      " [ 0.11197133  0.07026609]\n",
      " [-0.10478657  0.08647942]\n",
      " [ 0.01491144 -0.09929837]\n",
      " [-0.02464473 -0.07230424]\n",
      " [-0.09393307  0.02258847]\n",
      " [-0.13020435  0.10884047]\n",
      " [-0.0038558  -0.13747784]\n",
      " [ 0.06785059 -0.05913142]\n",
      " [ 0.00085246 -0.09671848]\n",
      " [-0.11482046  0.06874722]\n",
      " [-0.07600419  0.14444789]\n",
      " [-0.00686517 -0.10007114]\n",
      " [ 0.10366448  0.09017341]\n",
      " [-0.00364815 -0.12633395]\n",
      " [ 0.0271437  -0.01060392]\n",
      " [-0.07831699  0.01848051]\n",
      " [ 0.04412929 -0.08682403]\n",
      " [ 0.02188734 -0.16297035]\n",
      " [ 0.16966385  0.15219112]\n",
      " [ 0.07133477  0.03600883]\n",
      " [ 0.01669791 -0.10235969]\n",
      " [ 0.01870693 -0.01374662]\n",
      " [ 0.05507547 -0.0181637 ]\n",
      " [ 0.20873621  0.22363036]\n",
      " [-0.1272234   0.09590234]\n",
      " [ 0.12466478  0.11571988]\n",
      " [-0.0754834   0.01426684]\n",
      " [-0.10724634  0.08853718]\n",
      " [ 0.10048432  0.06583684]\n",
      " [ 0.05807732 -0.10520692]\n",
      " [ 0.01604432 -0.21958032]\n",
      " [-0.16410527  0.11694079]\n",
      " [ 0.10960069  0.07793703]\n",
      " [-0.0344665  -0.06967614]\n",
      " [-0.00335884 -0.10631255]\n",
      " [ 0.08197977  0.01628397]\n",
      " [ 0.09182267  0.06536358]\n",
      " [ 0.08861495  0.02462391]\n",
      " [-0.04690543 -0.03946835]\n",
      " [ 0.05678815 -0.09241071]\n",
      " [ 0.09139202  0.0774402 ]\n",
      " [-0.10450925  0.07078308]\n",
      " [-0.07003339  0.01075776]\n",
      " [-0.01031492 -0.11303415]\n",
      " [-0.00921992 -0.04251139]\n",
      " [-0.01647968 -0.02802329]\n",
      " [ 0.13494004  0.06028009]\n",
      " [-0.09566898  0.0225553 ]\n",
      " [-0.13171243  0.07016883]\n",
      " [-0.12892906  0.09819332]\n",
      " [-0.06988297  0.00125385]\n",
      " [-0.17657606  0.09408459]\n",
      " [-0.00546049 -0.10135525]\n",
      " [ 0.12293879  0.07335327]\n",
      " [ 0.04139737 -0.02016764]\n",
      " [-0.06927577 -0.01420696]\n",
      " [ 0.04548497 -0.06856504]\n",
      " [-0.04010431 -0.05997517]\n",
      " [-0.08094054  0.04076356]\n",
      " [ 0.0136731  -0.07847278]\n",
      " [-0.06717016  0.00871639]\n",
      " [-0.15022051  0.06304039]\n",
      " [-0.01272266 -0.06212804]\n",
      " [-0.08471991  0.01152327]\n",
      " [ 0.0411036  -0.00361584]]\n"
     ]
    }
   ],
   "source": [
    "# 고유벡터 확인\n",
    "print(k_pca.eigenvectors_)"
   ],
   "metadata": {
    "collapsed": false,
    "pycharm": {
     "name": "#%%\n"
    }
   }
  },
  {
   "cell_type": "code",
   "execution_count": 9,
   "outputs": [
    {
     "data": {
      "text/plain": "   kpca_comp1  kpca_comp2  target\n0    1.011805    0.049569       0\n1    0.654061   -0.436790       1\n2    1.211219    0.761903       0\n3    2.784498    2.373693       0\n4    2.027196    1.386201       0",
      "text/html": "<div>\n<style scoped>\n    .dataframe tbody tr th:only-of-type {\n        vertical-align: middle;\n    }\n\n    .dataframe tbody tr th {\n        vertical-align: top;\n    }\n\n    .dataframe thead th {\n        text-align: right;\n    }\n</style>\n<table border=\"1\" class=\"dataframe\">\n  <thead>\n    <tr style=\"text-align: right;\">\n      <th></th>\n      <th>kpca_comp1</th>\n      <th>kpca_comp2</th>\n      <th>target</th>\n    </tr>\n  </thead>\n  <tbody>\n    <tr>\n      <th>0</th>\n      <td>1.011805</td>\n      <td>0.049569</td>\n      <td>0</td>\n    </tr>\n    <tr>\n      <th>1</th>\n      <td>0.654061</td>\n      <td>-0.436790</td>\n      <td>1</td>\n    </tr>\n    <tr>\n      <th>2</th>\n      <td>1.211219</td>\n      <td>0.761903</td>\n      <td>0</td>\n    </tr>\n    <tr>\n      <th>3</th>\n      <td>2.784498</td>\n      <td>2.373693</td>\n      <td>0</td>\n    </tr>\n    <tr>\n      <th>4</th>\n      <td>2.027196</td>\n      <td>1.386201</td>\n      <td>0</td>\n    </tr>\n  </tbody>\n</table>\n</div>"
     },
     "execution_count": 9,
     "metadata": {},
     "output_type": "execute_result"
    }
   ],
   "source": [
    "# 차원축소 이후 데이터셋\n",
    "import pandas as pd\n",
    "kpca_columns = ['kpca_comp1', 'kpca_comp2']\n",
    "X_tn_kpca_df = pd.DataFrame(X_tn_kpca,\n",
    "                            columns=kpca_columns)\n",
    "X_tn_kpca_df['target'] = y_tn\n",
    "X_tn_kpca_df.head(5)"
   ],
   "metadata": {
    "collapsed": false,
    "pycharm": {
     "name": "#%%\n"
    }
   }
  },
  {
   "cell_type": "code",
   "execution_count": 10,
   "outputs": [
    {
     "data": {
      "text/plain": "<Figure size 432x288 with 1 Axes>",
      "image/png": "[encoded data removed]"
     },
     "metadata": {
      "needs_background": "light"
     },
     "output_type": "display_data"
    }
   ],
   "source": [
    "import matplotlib.pyplot as plt\n",
    "df = X_tn_kpca_df\n",
    "markers=['o','x','^']\n",
    "\n",
    "for i, mark in enumerate(markers):\n",
    "    X_i = df[df['target']== i]\n",
    "    target_i = raw_wine.target_names[i]\n",
    "    X1 = X_i['kpca_comp1']\n",
    "    X2 = X_i['kpca_comp2']\n",
    "    plt.scatter(X1, X2,\n",
    "                marker=mark,\n",
    "                label=target_i)\n",
    "plt.xlabel('kernel_pca_component1')\n",
    "plt.ylabel('kernel_pca_component2')\n",
    "plt.legend()\n",
    "plt.show()"
   ],
   "metadata": {
    "collapsed": false,
    "pycharm": {
     "name": "#%%\n"
    }
   }
  },
  {
   "cell_type": "code",
   "execution_count": 11,
   "outputs": [],
   "source": [
    "from sklearn.ensemble import RandomForestClassifier\n",
    "# 학습\n",
    "clf_rf_kpca = RandomForestClassifier(max_depth=2,\n",
    "                                     random_state=0)\n",
    "clf_rf_kpca.fit(X_tn_kpca, y_tn)\n",
    "\n",
    "# 예측\n",
    "pred_rf_kpca = clf_rf_kpca.predict(X_te_kpca)"
   ],
   "metadata": {
    "collapsed": false,
    "pycharm": {
     "name": "#%%\n"
    }
   }
  },
  {
   "cell_type": "code",
   "execution_count": 12,
   "outputs": [
    {
     "name": "stdout",
     "output_type": "stream",
     "text": [
      "0.9555555555555556\n"
     ]
    }
   ],
   "source": [
    "# PCA 적용 후 정확도\n",
    "from sklearn.metrics import accuracy_score\n",
    "accuracy_kpca = accuracy_score(y_te, pred_rf_kpca)\n",
    "print(accuracy_kpca)"
   ],
   "metadata": {
    "collapsed": false,
    "pycharm": {
     "name": "#%%\n"
    }
   }
  },
  {
   "cell_type": "code",
   "execution_count": 12,
   "outputs": [],
   "source": [],
   "metadata": {
    "collapsed": false,
    "pycharm": {
     "name": "#%%\n"
    }
   }
  }
 ],
 "metadata": {
  "kernelspec": {
   "name": "py3_7_6",
   "language": "python",
   "display_name": "python3_7_6"
  },
  "language_info": {
   "codemirror_mode": {
    "name": "ipython",
    "version": 2
   },
   "file_extension": ".py",
   "mimetype": "text/x-python",
   "name": "python",
   "nbconvert_exporter": "python",
   "pygments_lexer": "ipython2",
   "version": "2.7.6"
  }
 },
 "nbformat": 4,
 "nbformat_minor": 0
}