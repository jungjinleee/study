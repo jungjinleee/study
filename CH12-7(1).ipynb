{
 "cells": [
  {
   "cell_type": "markdown",
   "source": [
    "### 자연어 처리"
   ],
   "metadata": {
    "collapsed": false,
    "pycharm": {
     "name": "#%% md\n"
    }
   }
  },
  {
   "cell_type": "code",
   "execution_count": 1,
   "outputs": [
    {
     "name": "stdout",
     "output_type": "stream",
     "text": [
      "{'많은': 1, '것을': 2, '바꾸고': 3, '싶다면': 4, '받아들여라': 5}\n",
      "OrderedDict([('많은', 2), ('것을', 2), ('바꾸고', 1), ('싶다면', 1), ('받아들여라', 1)])\n"
     ]
    }
   ],
   "source": [
    "from tensorflow.keras.preprocessing.text import Tokenizer\n",
    "paper = ['많은 것을 바꾸고 싶다면 많은 것을 받아들여라.']\n",
    "tknz = Tokenizer()\n",
    "tknz.fit_on_texts(paper)\n",
    "print(tknz.word_index)\n",
    "print(tknz.word_counts)"
   ],
   "metadata": {
    "collapsed": false,
    "pycharm": {
     "name": "#%%\n"
    }
   }
  },
  {
   "cell_type": "code",
   "execution_count": 2,
   "outputs": [
    {
     "name": "stdout",
     "output_type": "stream",
     "text": [
      "[[1, 2, 3, 4, 1, 2, 5]]\n",
      "6\n",
      "[[[0. 1. 0. 0. 0. 0.]\n",
      "  [0. 0. 1. 0. 0. 0.]\n",
      "  [0. 0. 0. 1. 0. 0.]\n",
      "  [0. 0. 0. 0. 1. 0.]\n",
      "  [0. 1. 0. 0. 0. 0.]\n",
      "  [0. 0. 1. 0. 0. 0.]\n",
      "  [0. 0. 0. 0. 0. 1.]]]\n"
     ]
    }
   ],
   "source": [
    "# 단어를 벡터로 변환 -> 원-핫 인코딩\n",
    "from tensorflow.keras.utils import to_categorical\n",
    "idx_paper = tknz.texts_to_sequences(paper)\n",
    "print(idx_paper)\n",
    "n = len(tknz.word_index)+1\n",
    "print(n)\n",
    "idx_onehot = to_categorical(idx_paper, num_classes= n)\n",
    "print(idx_onehot)"
   ],
   "metadata": {
    "collapsed": false,
    "pycharm": {
     "name": "#%%\n"
    }
   }
  },
  {
   "cell_type": "code",
   "execution_count": 4,
   "outputs": [
    {
     "name": "stdout",
     "output_type": "stream",
     "text": [
      "[[[ 0.01703889  0.02963524 -0.01445959]\n",
      "  [ 0.0496687   0.01598466  0.02575159]\n",
      "  [ 0.03093448  0.02224578  0.01206606]\n",
      "  [-0.03490529  0.02191151  0.02176837]\n",
      "  [ 0.01703889  0.02963524 -0.01445959]\n",
      "  [ 0.0496687   0.01598466  0.02575159]\n",
      "  [ 0.03097994 -0.03652866 -0.04060479]]]\n"
     ]
    }
   ],
   "source": [
    "# 단어 임베딩\n",
    "from tensorflow.keras.models import Sequential\n",
    "from tensorflow.keras.layers import Embedding\n",
    "\n",
    "model = Sequential()\n",
    "model.add(Embedding(input_dim=n, output_dim=3))\n",
    "model.compile(optimizer='rmsprop', loss='mse')\n",
    "embedding = model.predict(idx_paper)\n",
    "print(embedding) # 길이가 3인 벡터로 총 7개의 토큰이 벡터화 됨"
   ],
   "metadata": {
    "collapsed": false,
    "pycharm": {
     "name": "#%%\n"
    }
   }
  },
  {
   "cell_type": "code",
   "execution_count": 3,
   "outputs": [],
   "source": [],
   "metadata": {
    "collapsed": false,
    "pycharm": {
     "name": "#%%\n"
    }
   }
  }
 ],
 "metadata": {
  "kernelspec": {
   "name": "py3_7_6",
   "language": "python",
   "display_name": "python3_7_6"
  },
  "language_info": {
   "codemirror_mode": {
    "name": "ipython",
    "version": 2
   },
   "file_extension": ".py",
   "mimetype": "text/x-python",
   "name": "python",
   "nbconvert_exporter": "python",
   "pygments_lexer": "ipython2",
   "version": "2.7.6"
  }
 },
 "nbformat": 4,
 "nbformat_minor": 0
}