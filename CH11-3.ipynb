{
 "cells": [
  {
   "cell_type": "markdown",
   "id": "0ade72b6",
   "metadata": {
    "pycharm": {
     "name": "#%% md\n"
    }
   },
   "source": [
    "### 계층 클러스터링"
   ]
  },
  {
   "cell_type": "code",
   "execution_count": 2,
   "id": "4893e7eb",
   "metadata": {
    "pycharm": {
     "name": "#%%\n"
    }
   },
   "outputs": [],
   "source": [
    "# 데이터 생성\n",
    "from sklearn.datasets import make_blobs\n",
    "X,y = make_blobs(n_samples=10, \n",
    "                 n_features=2, \n",
    "                 random_state=0)"
   ]
  },
  {
   "cell_type": "code",
   "execution_count": 3,
   "id": "dd8d7932",
   "metadata": {
    "pycharm": {
     "name": "#%%\n"
    }
   },
   "outputs": [
    {
     "name": "stdout",
     "output_type": "stream",
     "text": [
      "(10, 2)\n",
      "(10,)\n"
     ]
    }
   ],
   "source": [
    "# 생성된 데이터 차원 확인\n",
    "print(X.shape)\n",
    "print(y.shape)"
   ]
  },
  {
   "cell_type": "code",
   "execution_count": 4,
   "id": "3c5044de",
   "metadata": {
    "pycharm": {
     "name": "#%%\n"
    }
   },
   "outputs": [
    {
     "name": "stdout",
     "output_type": "stream",
     "text": [
      "[8 9 6 4 5 2 7 3 1 0]\n"
     ]
    }
   ],
   "source": [
    "# 병합 계층 클러스터링\n",
    "from sklearn.cluster import AgglomerativeClustering\n",
    "aggc = AgglomerativeClustering(n_clusters=None, \n",
    "                               distance_threshold=0, \n",
    "                               linkage='complete')\n",
    "#n_cluster= 구하려는 클러스터 개수\n",
    "#linkage= 완전 연결\n",
    "label_aggc = aggc.fit_predict(X)\n",
    "print(label_aggc)"
   ]
  },
  {
   "cell_type": "code",
   "execution_count": 5,
   "id": "76b02fb8",
   "metadata": {
    "pycharm": {
     "name": "#%%\n"
    }
   },
   "outputs": [
    {
     "name": "stdout",
     "output_type": "stream",
     "text": [
      "[0 0 0 0 0 0 1 0 0 0]\n"
     ]
    }
   ],
   "source": [
    "# 클러스터 2개로 병합\n",
    "aggc2 = AgglomerativeClustering(n_clusters=2, \n",
    "                                linkage='complete')\n",
    "label_aggc2 = aggc2.fit_predict(X)\n",
    "print(label_aggc2)"
   ]
  },
  {
   "cell_type": "code",
   "execution_count": 6,
   "id": "25fff542",
   "metadata": {
    "pycharm": {
     "name": "#%%\n"
    }
   },
   "outputs": [
    {
     "name": "stdout",
     "output_type": "stream",
     "text": [
      "[0 0 2 0 0 0 1 2 2 0]\n"
     ]
    }
   ],
   "source": [
    "# 클러스터 3개로 병합\n",
    "aggc3 = AgglomerativeClustering(n_clusters=3, \n",
    "                                linkage='complete')\n",
    "label_aggc3 = aggc3.fit_predict(X)\n",
    "print(label_aggc3)"
   ]
  },
  {
   "cell_type": "code",
   "execution_count": 7,
   "id": "db7f20b1",
   "metadata": {
    "pycharm": {
     "name": "#%%\n"
    }
   },
   "outputs": [
    {
     "data": {
      "image/png": "[encoded data removed]",
      "text/plain": [
       "<Figure size 432x288 with 1 Axes>"
      ]
     },
     "metadata": {
      "needs_background": "light"
     },
     "output_type": "display_data"
    }
   ],
   "source": [
    "# 덴드로그램 \n",
    "from scipy.cluster.hierarchy import dendrogram\n",
    "from scipy.cluster.hierarchy import linkage\n",
    "import matplotlib.pyplot as plt\n",
    "\n",
    "linked = linkage(X, 'complete')\n",
    "labels = label_aggc\n",
    "dendrogram(linked, \n",
    "           orientation='top', \n",
    "           labels=labels, \n",
    "           show_leaf_counts=True)\n",
    "plt.show()"
   ]
  },
  {
   "cell_type": "code",
   "execution_count": null,
   "id": "80f03c0e",
   "metadata": {
    "pycharm": {
     "name": "#%%\n"
    }
   },
   "outputs": [],
   "source": []
  }
 ],
 "metadata": {
  "kernelspec": {
   "display_name": "python3_7_6",
   "language": "python",
   "name": "py3_7_6"
  },
  "language_info": {
   "codemirror_mode": {
    "name": "ipython",
    "version": 3
   },
   "file_extension": ".py",
   "mimetype": "text/x-python",
   "name": "python",
   "nbconvert_exporter": "python",
   "pygments_lexer": "ipython3",
   "version": "3.7.6"
  }
 },
 "nbformat": 4,
 "nbformat_minor": 5
}