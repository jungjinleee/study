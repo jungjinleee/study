{
 "cells": [
  {
   "cell_type": "markdown",
   "source": [
    "### perceptron"
   ],
   "metadata": {
    "collapsed": false,
    "pycharm": {
     "name": "#%% md\n"
    }
   }
  },
  {
   "cell_type": "code",
   "execution_count": 1,
   "outputs": [
    {
     "name": "stdout",
     "output_type": "stream",
     "text": [
      "before reshape: [[2 3]\n",
      " [5 1]]\n",
      "after reshape: [2 3 5 1]\n"
     ]
    }
   ],
   "source": [
    "import numpy as np\n",
    "#input layer\n",
    "input_data = np.array([[2,3],[5,1]])\n",
    "print('before reshape: %s'%input_data)\n",
    "#기존 행렬을 벡터로 변환\n",
    "x = input_data.reshape(-1)\n",
    "print('after reshape: %s'%x)"
   ],
   "metadata": {
    "collapsed": false,
    "pycharm": {
     "name": "#%%\n"
    }
   }
  },
  {
   "cell_type": "code",
   "execution_count": 2,
   "outputs": [],
   "source": [
    "#weight and bias\n",
    "w1 = np.array([2,1,-3,3])\n",
    "w2 = np.array([1,-3,1,3])\n",
    "b1 = 3\n",
    "b2 = 3"
   ],
   "metadata": {
    "collapsed": false,
    "pycharm": {
     "name": "#%%\n"
    }
   }
  },
  {
   "cell_type": "code",
   "execution_count": 3,
   "outputs": [
    {
     "name": "stdout",
     "output_type": "stream",
     "text": [
      "weight: [[ 2  1 -3  3]\n",
      " [ 1 -3  1  3]]\n",
      "bias: [3 3]\n",
      "weighted sum: [-2  4]\n"
     ]
    }
   ],
   "source": [
    "#weighted sum\n",
    "W = np.array([w1,w2])\n",
    "print('weight: %s'%W)\n",
    "b=np.array([b1,b2])\n",
    "print('bias: %s'%b)\n",
    "weight_sum = np.dot(W,x) + b\n",
    "print('weighted sum: %s'%weight_sum)"
   ],
   "metadata": {
    "collapsed": false,
    "pycharm": {
     "name": "#%%\n"
    }
   }
  },
  {
   "cell_type": "code",
   "execution_count": 4,
   "outputs": [
    {
     "name": "stdout",
     "output_type": "stream",
     "text": [
      "[0.11920292 0.98201379]\n"
     ]
    }
   ],
   "source": [
    "#output layer\n",
    "res = 1/(1+np.exp(-weight_sum))\n",
    "print(res)"
   ],
   "metadata": {
    "collapsed": false,
    "pycharm": {
     "name": "#%%\n"
    }
   }
  },
  {
   "cell_type": "code",
   "execution_count": 4,
   "outputs": [],
   "source": [],
   "metadata": {
    "collapsed": false,
    "pycharm": {
     "name": "#%%\n"
    }
   }
  }
 ],
 "metadata": {
  "kernelspec": {
   "name": "py3_7_6",
   "language": "python",
   "display_name": "python3_7_6"
  },
  "language_info": {
   "codemirror_mode": {
    "name": "ipython",
    "version": 2
   },
   "file_extension": ".py",
   "mimetype": "text/x-python",
   "name": "python",
   "nbconvert_exporter": "python",
   "pygments_lexer": "ipython2",
   "version": "2.7.6"
  }
 },
 "nbformat": 4,
 "nbformat_minor": 0
}