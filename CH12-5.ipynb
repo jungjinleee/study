{
 "cells": [
  {
   "cell_type": "markdown",
   "source": [
    "### 순환 신경망(RNN)"
   ],
   "metadata": {
    "collapsed": false,
    "pycharm": {
     "name": "#%% md\n"
    }
   }
  },
  {
   "cell_type": "code",
   "execution_count": 1,
   "outputs": [],
   "source": [
    "import numpy as np\n",
    "#np.__version__='1.19.5'\n",
    "import tensorflow as tf\n",
    "np.random.seed(0)\n",
    "tf.random.set_seed(0)"
   ],
   "metadata": {
    "collapsed": false,
    "pycharm": {
     "name": "#%%\n"
    }
   }
  },
  {
   "cell_type": "code",
   "execution_count": 2,
   "outputs": [
    {
     "name": "stderr",
     "output_type": "stream",
     "text": [
      "C:\\Users\\exem\\.conda\\envs\\py3_7_6\\lib\\site-packages\\tensorflow_core\\python\\keras\\datasets\\imdb.py:129: VisibleDeprecationWarning: Creating an ndarray from ragged nested sequences (which is a list-or-tuple of lists-or-tuples-or ndarrays with different lengths or shapes) is deprecated. If you meant to do this, you must specify 'dtype=object' when creating the ndarray\n",
      "  x_train, y_train = np.array(xs[:idx]), np.array(labels[:idx])\n",
      "C:\\Users\\exem\\.conda\\envs\\py3_7_6\\lib\\site-packages\\tensorflow_core\\python\\keras\\datasets\\imdb.py:130: VisibleDeprecationWarning: Creating an ndarray from ragged nested sequences (which is a list-or-tuple of lists-or-tuples-or ndarrays with different lengths or shapes) is deprecated. If you meant to do this, you must specify 'dtype=object' when creating the ndarray\n",
      "  x_test, y_test = np.array(xs[idx:]), np.array(labels[idx:])\n"
     ]
    }
   ],
   "source": [
    "# 데이터 불러오기\n",
    "from tensorflow.keras.datasets import imdb\n",
    "(X_tn0,y_tn0),(X_te0, y_test)=imdb.load_data(num_words=2000)"
   ],
   "metadata": {
    "collapsed": false,
    "pycharm": {
     "name": "#%%\n"
    }
   }
  },
  {
   "cell_type": "code",
   "execution_count": 3,
   "outputs": [
    {
     "name": "stdout",
     "output_type": "stream",
     "text": [
      "(25000,)\n",
      "(25000,)\n",
      "(25000,)\n",
      "(25000,)\n"
     ]
    }
   ],
   "source": [
    "# 원본 데이터 차원 확인\n",
    "print(X_tn0.shape)\n",
    "print(y_tn0.shape)\n",
    "print(X_te0.shape)\n",
    "print(y_test.shape)"
   ],
   "metadata": {
    "collapsed": false,
    "pycharm": {
     "name": "#%%\n"
    }
   }
  },
  {
   "cell_type": "code",
   "execution_count": 4,
   "outputs": [],
   "source": [
    "# 트레이닝/밸리데이션 셋 분리\n",
    "X_train = X_tn0[0:20000]\n",
    "y_train = y_tn0[0:20000]\n",
    "X_valid = X_tn0[20000:25000]\n",
    "y_valid = y_tn0[20000:25000]"
   ],
   "metadata": {
    "collapsed": false,
    "pycharm": {
     "name": "#%%\n"
    }
   }
  },
  {
   "cell_type": "code",
   "execution_count": 5,
   "outputs": [
    {
     "name": "stdout",
     "output_type": "stream",
     "text": [
      "[1, 14, 22, 16, 43, 530, 973, 1622, 1385, 65, 458, 2, 66, 2, 4, 173, 36, 256, 5, 25, 100, 43, 838, 112, 50, 670, 2, 9, 35, 480, 284, 5, 150, 4, 172, 112, 167, 2, 336, 385, 39, 4, 172, 2, 1111, 17, 546, 38, 13, 447, 4, 192, 50, 16, 6, 147, 2, 19, 14, 22, 4, 1920, 2, 469, 4, 22, 71, 87, 12, 16, 43, 530, 38, 76, 15, 13, 1247, 4, 22, 17, 515, 17, 12, 16, 626, 18, 2, 5, 62, 386, 12, 8, 316, 8, 106, 5, 4, 2, 2, 16, 480, 66, 2, 33, 4, 130, 12, 16, 38, 619, 5, 25, 124, 51, 36, 135, 48, 25, 1415, 33, 6, 22, 12, 215, 28, 77, 52, 5, 14, 407, 16, 82, 2, 8, 4, 107, 117, 2, 15, 256, 4, 2, 7, 2, 5, 723, 36, 71, 43, 530, 476, 26, 400, 317, 46, 7, 4, 2, 1029, 13, 104, 88, 4, 381, 15, 297, 98, 32, 2, 56, 26, 141, 6, 194, 2, 18, 4, 226, 22, 21, 134, 476, 26, 480, 5, 144, 30, 2, 18, 51, 36, 28, 224, 92, 25, 104, 4, 226, 65, 16, 38, 1334, 88, 12, 16, 283, 5, 16, 2, 113, 103, 32, 15, 16, 2, 19, 178, 32]\n"
     ]
    }
   ],
   "source": [
    "# 피처 데이터 형태 확인\n",
    "print(X_train[0])"
   ],
   "metadata": {
    "collapsed": false,
    "pycharm": {
     "name": "#%%\n"
    }
   }
  },
  {
   "cell_type": "code",
   "execution_count": 6,
   "outputs": [
    {
     "name": "stdout",
     "output_type": "stream",
     "text": [
      "218\n",
      "189\n"
     ]
    }
   ],
   "source": [
    "print(len(X_train[0]))\n",
    "print(len(X_train[1]))\n",
    "# 첫 번째 피처값과 두 번째 피처값의 길이가 다르다는 것은 문장 길이가 다르다는 것을 의미하며 나중에 같은 크기로 저장이 필요함을 의미."
   ],
   "metadata": {
    "collapsed": false,
    "pycharm": {
     "name": "#%%\n"
    }
   }
  },
  {
   "cell_type": "code",
   "execution_count": 7,
   "outputs": [
    {
     "name": "stdout",
     "output_type": "stream",
     "text": [
      "{0, 1}\n",
      "2\n"
     ]
    }
   ],
   "source": [
    "# 타겟 클래스 호가인\n",
    "print(set(y_test))\n",
    "print(len(set(y_test)))"
   ],
   "metadata": {
    "collapsed": false,
    "pycharm": {
     "name": "#%%\n"
    }
   }
  },
  {
   "cell_type": "code",
   "execution_count": 8,
   "outputs": [
    {
     "name": "stdout",
     "output_type": "stream",
     "text": [
      "(20000, 100)\n",
      "(5000, 100)\n",
      "(25000, 100)\n"
     ]
    }
   ],
   "source": [
    "# 피처 데이터 변형\n",
    "from tensorflow.keras.preprocessing import sequence\n",
    "X_train = sequence.pad_sequences(X_train,maxlen=100)\n",
    "print(X_train.shape)\n",
    "X_valid = sequence.pad_sequences(X_valid,maxlen=100)\n",
    "print(X_valid.shape)\n",
    "X_test = sequence.pad_sequences(X_te0,maxlen=100)\n",
    "print(X_test.shape)\n"
   ],
   "metadata": {
    "collapsed": false,
    "pycharm": {
     "name": "#%%\n"
    }
   }
  },
  {
   "cell_type": "code",
   "execution_count": 9,
   "outputs": [
    {
     "name": "stdout",
     "output_type": "stream",
     "text": [
      "Model: \"sequential\"\n",
      "_________________________________________________________________\n",
      "Layer (type)                 Output Shape              Param #   \n",
      "=================================================================\n",
      "embedding (Embedding)        (None, None, 100)         200000    \n",
      "_________________________________________________________________\n",
      "conv1d (Conv1D)              (None, None, 50)          15050     \n",
      "_________________________________________________________________\n",
      "max_pooling1d (MaxPooling1D) (None, None, 50)          0         \n",
      "_________________________________________________________________\n",
      "lstm (LSTM)                  (None, 100)               60400     \n",
      "_________________________________________________________________\n",
      "dropout (Dropout)            (None, 100)               0         \n",
      "_________________________________________________________________\n",
      "dense (Dense)                (None, 1)                 101       \n",
      "=================================================================\n",
      "Total params: 275,551\n",
      "Trainable params: 275,551\n",
      "Non-trainable params: 0\n",
      "_________________________________________________________________\n"
     ]
    }
   ],
   "source": [
    "# LSTM 모형 생성\n",
    "from tensorflow.keras.models import Sequential\n",
    "from tensorflow.keras.layers import Dense, LSTM\n",
    "from tensorflow.keras.layers import Embedding\n",
    "from tensorflow.keras.layers import Dropout\n",
    "from tensorflow.keras.layers import Conv1D\n",
    "from tensorflow.keras.layers import MaxPooling1D\n",
    "\n",
    "model = Sequential()\n",
    "model.add(Embedding(input_dim=2000, output_dim=100))\n",
    "model.add(Conv1D(50, kernel_size=3,\n",
    "                 padding='valid',\n",
    "                 activation='relu'))\n",
    "model.add(MaxPooling1D(pool_size=3))\n",
    "model.add(LSTM(100, activation='tanh'))\n",
    "model.add(Dropout(0.25))\n",
    "model.add(Dense(1, activation='sigmoid'))\n",
    "model.summary()"
   ],
   "metadata": {
    "collapsed": false,
    "pycharm": {
     "name": "#%%\n"
    }
   }
  },
  {
   "cell_type": "code",
   "execution_count": 10,
   "outputs": [
    {
     "data": {
      "image/png": "[encoded data removed]",
      "text/plain": "<IPython.core.display.Image object>"
     },
     "execution_count": 10,
     "metadata": {},
     "output_type": "execute_result"
    }
   ],
   "source": [
    "from tensorflow.keras.utils import plot_model\n",
    "plot_model(model)"
   ],
   "metadata": {
    "collapsed": false,
    "pycharm": {
     "name": "#%%\n"
    }
   }
  },
  {
   "cell_type": "code",
   "execution_count": 11,
   "outputs": [],
   "source": [
    "# 모형 컴파일\n",
    "model.compile(loss='binary_crossentropy',\n",
    "              optimizer='adam',\n",
    "              metrics=['accuracy'])"
   ],
   "metadata": {
    "collapsed": false,
    "pycharm": {
     "name": "#%%\n"
    }
   }
  },
  {
   "cell_type": "code",
   "execution_count": 12,
   "outputs": [
    {
     "name": "stdout",
     "output_type": "stream",
     "text": [
      "Train on 20000 samples, validate on 5000 samples\n",
      "Epoch 1/10\n",
      "20000/20000 [==============================] - 9s 466us/sample - loss: 0.4884 - accuracy: 0.7470 - val_loss: 0.3966 - val_accuracy: 0.8218\n",
      "Epoch 2/10\n",
      "20000/20000 [==============================] - 8s 412us/sample - loss: 0.3382 - accuracy: 0.8532 - val_loss: 0.3720 - val_accuracy: 0.8318\n",
      "Epoch 3/10\n",
      "20000/20000 [==============================] - 8s 414us/sample - loss: 0.3007 - accuracy: 0.8741 - val_loss: 0.4105 - val_accuracy: 0.8064\n",
      "Epoch 4/10\n",
      "20000/20000 [==============================] - 8s 423us/sample - loss: 0.2623 - accuracy: 0.8942 - val_loss: 0.3880 - val_accuracy: 0.8296\n",
      "Epoch 5/10\n",
      "20000/20000 [==============================] - 8s 412us/sample - loss: 0.2021 - accuracy: 0.9237 - val_loss: 0.4295 - val_accuracy: 0.8172\n",
      "Epoch 6/10\n",
      "20000/20000 [==============================] - 8s 401us/sample - loss: 0.1338 - accuracy: 0.9534 - val_loss: 0.5551 - val_accuracy: 0.8082\n",
      "Epoch 7/10\n",
      "20000/20000 [==============================] - 8s 386us/sample - loss: 0.0878 - accuracy: 0.9700 - val_loss: 0.6035 - val_accuracy: 0.8130\n",
      "Epoch 8/10\n",
      "20000/20000 [==============================] - 8s 402us/sample - loss: 0.0601 - accuracy: 0.9801 - val_loss: 0.6305 - val_accuracy: 0.8090\n",
      "Epoch 9/10\n",
      "20000/20000 [==============================] - 8s 402us/sample - loss: 0.0287 - accuracy: 0.9917 - val_loss: 0.9826 - val_accuracy: 0.8058\n",
      "Epoch 10/10\n",
      "20000/20000 [==============================] - 8s 408us/sample - loss: 0.0211 - accuracy: 0.9935 - val_loss: 0.6674 - val_accuracy: 0.8150\n"
     ]
    }
   ],
   "source": [
    "# 학습\n",
    "hist = model.fit(X_train, y_train,\n",
    "                 batch_size=100,\n",
    "                 epochs=10,\n",
    "                 validation_data=(X_valid,y_valid))"
   ],
   "metadata": {
    "collapsed": false,
    "pycharm": {
     "name": "#%%\n"
    }
   }
  },
  {
   "cell_type": "code",
   "execution_count": 13,
   "outputs": [
    {
     "data": {
      "text/plain": "'\\nprint(model.evaluate(X_train, y_train)[1])\\nprint(model.evaluate(X_valid, y_valid)[1])\\nprint(model.evaluate(X_test, y_test)[1])\\n'"
     },
     "execution_count": 13,
     "metadata": {},
     "output_type": "execute_result"
    }
   ],
   "source": [
    "# 모형 평가\n",
    "'''\n",
    "print(model.evaluate(X_train, y_train)[1])\n",
    "print(model.evaluate(X_valid, y_valid)[1])\n",
    "print(model.evaluate(X_test, y_test)[1])\n",
    "'''"
   ],
   "metadata": {
    "collapsed": false,
    "pycharm": {
     "name": "#%%\n"
    }
   }
  },
  {
   "cell_type": "code",
   "execution_count": 14,
   "outputs": [
    {
     "data": {
      "text/plain": "<Figure size 1080x360 with 2 Axes>",
      "image/png": "[encoded data removed]"
     },
     "metadata": {
      "needs_background": "light"
     },
     "output_type": "display_data"
    }
   ],
   "source": [
    "# 정확도 & 손실 그래프\n",
    "epoch = np.arange(1,11)\n",
    "acc_train = hist.history['accuracy']\n",
    "acc_valid = hist.history['val_accuracy']\n",
    "loss_train = hist.history['loss']\n",
    "loss_valid = hist.history['val_loss']\n",
    "\n",
    "import matplotlib.pyplot as plt\n",
    "plt.figure(figsize=(15,5))\n",
    "plt.subplot(121)\n",
    "plt.plot(epoch, acc_train, 'b',\n",
    "         marker='.',\n",
    "         label='train_acc')\n",
    "plt.plot(epoch, acc_valid, 'r--',\n",
    "         marker='.',\n",
    "         label='valid_acc')\n",
    "plt.title('Accuracy')\n",
    "plt.xlabel('epoch')\n",
    "plt.ylabel('accuracy')\n",
    "plt.legend()\n",
    "plt.subplot(122)\n",
    "plt.plot(epoch, loss_train, 'b',\n",
    "         marker='.',\n",
    "         label='train_loss')\n",
    "plt.plot(epoch, loss_valid, 'r--',\n",
    "         marker='.',\n",
    "         label='valid_loss')\n",
    "plt.title('Loss')\n",
    "plt.xlabel('epoch')\n",
    "plt.ylabel('loss')\n",
    "plt.legend()\n",
    "plt.show()"
   ],
   "metadata": {
    "collapsed": false,
    "pycharm": {
     "name": "#%%\n"
    }
   }
  },
  {
   "cell_type": "code",
   "execution_count": 14,
   "outputs": [],
   "source": [],
   "metadata": {
    "collapsed": false,
    "pycharm": {
     "name": "#%%\n"
    }
   }
  }
 ],
 "metadata": {
  "kernelspec": {
   "name": "py3_7_6",
   "language": "python",
   "display_name": "python3_7_6"
  },
  "language_info": {
   "codemirror_mode": {
    "name": "ipython",
    "version": 2
   },
   "file_extension": ".py",
   "mimetype": "text/x-python",
   "name": "python",
   "nbconvert_exporter": "python",
   "pygments_lexer": "ipython2",
   "version": "2.7.6"
  }
 },
 "nbformat": 4,
 "nbformat_minor": 0
}